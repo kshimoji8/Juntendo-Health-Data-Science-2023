{
 "cells": [
  {
   "cell_type": "markdown",
   "metadata": {},
   "source": [
    "# 順天堂大学データサイエンス学部\n",
    "# 「データビジュアライゼーション入門」\n",
    "## -2023年1月6日-\n",
    "### 各セル左上の［　］をクリックすることで各セルを順番に実行していくことができます\n",
    "### 最初だけ「このノートブックは Google が作成したものではありません」と警告が出ますが心配はありません\n",
    "### 「このまま実行」をクリックし先に進んでください\n",
    "- 各セル左上の[ ]をクリックするとプログラムの実行がはじまります\n",
    "- 各セル左上にグルグルと回るアニメーションが表示されている間は、プログラムが実行中です。そのままお待ちください\n",
    "- プログラムの実行が完了すると、各セル左上に小さな三角形が表示されます\n",
    "- 最初のセルではこれから使うライブラリを呼び出しています。今はライブラリの詳しい意味はわからなくて大丈夫"
   ]
  },
  {
   "cell_type": "code",
   "execution_count": null,
   "metadata": {
    "colab": {
     "base_uri": "https://localhost:8080/"
    },
    "id": "rZNehDbDA5jl",
    "outputId": "e4f0d783-bdfc-4d37-d90f-19edb5865a2f"
   },
   "outputs": [],
   "source": [
    "!pip install japanize_matplotlib\n",
    "import japanize_matplotlib\n",
    "import math\n",
    "import matplotlib.pyplot as plt\n",
    "import numpy as np\n",
    "import pandas as pd\n",
    "import sympy\n",
    "%matplotlib inline"
   ]
  },
  {
   "cell_type": "markdown",
   "metadata": {},
   "source": [
    "## 基本中の基本である棒グラフを描いてみます"
   ]
  },
  {
   "cell_type": "code",
   "execution_count": null,
   "metadata": {
    "colab": {
     "base_uri": "https://localhost:8080/",
     "height": 282
    },
    "id": "WXm8Nf7SA5jn",
    "lines_to_next_cell": 2,
    "outputId": "558a2cb5-522d-48a8-c9a9-53da2c2f6cc3",
    "scrolled": true
   },
   "outputs": [],
   "source": [
    "smap_name = ['中居', '木村', '稲垣', '草彅', '香取']\n",
    "smap_height = np.array([165, 176, 172, 170, 183])\n",
    "plt.bar(smap_name, smap_height)"
   ]
  },
  {
   "cell_type": "markdown",
   "metadata": {},
   "source": [
    "## このように簡単な棒グラフはわずか３行のプログラムで作図できます\n",
    "- １行目でSMAPのメンバー名をデータとして与えています\n",
    "- ２行目でSMAPの５人の身長をデータとして与えています\n",
    "- ３行目で棒グラフを作図しています\n",
    "  \n",
    "### 棒グラフは軸が１つしかありませんでした\n",
    "### データも１種類だけでした\n",
    "## 次はもう少し複雑なグラフを描画したいと思います\n",
    "## データの種類を増やし、軸の数も増やし、散布図を作成します"
   ]
  },
  {
   "cell_type": "code",
   "execution_count": null,
   "metadata": {
    "colab": {
     "base_uri": "https://localhost:8080/",
     "height": 310
    },
    "id": "gC18lkpjA5jn",
    "outputId": "e3e72656-8953-4032-fd1c-2bf9327b1c9e"
   },
   "outputs": [],
   "source": [
    "df_mb = pd.DataFrame(data={'身長': [185,183,181,187,186,181,187,188,180,183,188,178,175,190,182,183,188,186,178,178,193,174,175,185,183,183,182,190,181,173,185,184,170,186,186,175,188], '体重': [99,95,88,98,95,81,80,94,90,82,97,86,78,97,89,86,82,82,85,82,113,100,81,87,78,90,86,98,74,82,100,84,73,85,89,78,102],})\n",
    "ax = df_mb[['身長', '体重']].plot(kind='scatter', x='身長', y='体重', color='blue', alpha=0.3, title='男性野球選手と女性サッカー選手の身長体重分布（青=男性野球選手、赤=女性サッカー選手）')\n",
    "df_fs = pd.DataFrame(data={'身長': [158,154,158,157,157,160,160,167,169,156,164,162,158,154,158,157,157,160,160,167,169,156,164,162], '体重': [55,44,52,47,52,53,48,55,62,54,56,53,55,44,52,47,52,53,48,55,62,54,56,53],})\n",
    "df_fs[['身長', '体重']].plot(kind='scatter', x='身長', y='体重', color='red', alpha=0.3, ax=ax)"
   ]
  },
  {
   "cell_type": "markdown",
   "metadata": {},
   "source": [
    "## 散布図もわずか４行のプログラムで作図できます\n",
    "- １行目で男性野球選手の身長と体重をデータとして与えています\n",
    "- ２行目で男性野球選手の身長と体重の散布図を作図します。男性野球選手のデータは青いマーカーです\n",
    "- ３行目で女性サッカー選手の身長と体重をデータとして与えています\n",
    "- ４行目で女性サッカー選手の身長と体重の散布図を作図します。女性サッカー選手のデータは赤いマーカーです\n",
    "- 散布図にはX軸とY軸の２つの軸があります\n",
    "- この散布図では横軸（X軸）が身長、縦軸（Y軸）が体重になります\n",
    "- 散布図を使うことで、野球選手の身長と体重、女性サッカー選手の身長と体重、合計４種類のデータの分布をわかりやすく図示できました\n",
    "\n",
    "## データがあれば平均値と標準偏差を計算できます\n",
    "- 平均値とは、数の集合やデータの中間的な値のことです\n",
    "- 標準偏差とは、データの平均値からの散らばり具合（ばらつき）のことです\n",
    "## 男性野球選手と女性サッカー選手の身長と体重のデータから、平均値と標準偏差を計算します"
   ]
  },
  {
   "cell_type": "code",
   "execution_count": null,
   "metadata": {
    "colab": {
     "base_uri": "https://localhost:8080/"
    },
    "id": "xjEEuXnrA5jp",
    "outputId": "b19a0ba7-794e-44d1-a726-a93d262a7b51"
   },
   "outputs": [],
   "source": [
    "mb_height_mean = df_mb['身長'].mean()\n",
    "mb_height_std = df_mb['身長'].std()\n",
    "mb_weight_mean = df_mb['体重'].mean()\n",
    "mb_weight_std = df_mb['体重'].std()\n",
    "fs_height_mean = df_fs['身長'].mean()\n",
    "fs_height_std = df_fs['身長'].std()\n",
    "fs_weight_mean = df_fs['体重'].mean()\n",
    "fs_weight_std = df_fs['体重'].std()\n",
    "print(f'男性野球選手　　　平均身長：{mb_height_mean:.1f}cm（標準偏差：{mb_height_std:.1f}cm）')\n",
    "print(f'女性サッカー選手　平均身長：{fs_height_mean:.1f}cm（標準偏差：{fs_height_std:.1f}cm）')\n",
    "print(f'男性野球選手　　　平均体重： {mb_weight_mean:.1f}kg（標準偏差：{mb_weight_std:.1f}kg）')\n",
    "print(f'女性サッカー選手　平均体重： {fs_weight_mean:.1f}kg（標準偏差：{fs_weight_std:.1f}kg）')"
   ]
  },
  {
   "cell_type": "markdown",
   "metadata": {},
   "source": [
    "## 平均値と標準偏差の２つさえあれば（元になったデータが無くても）偏差値を計算できます\n",
    "### 大谷翔平選手の身長と体重（193cm、93kg）を使って、大谷翔平選手の男性野球選手における身長偏差値と体重偏差値、女性サッカー選手における身長偏差値と体重偏差値を計算します\n",
    "- 下のセル内の数字は自由に編集できます。\n",
    "- 余裕があれば好きな数字、気になる数字を身長、体重として入力し再計算してみましょう"
   ]
  },
  {
   "cell_type": "code",
   "execution_count": null,
   "metadata": {
    "colab": {
     "base_uri": "https://localhost:8080/",
     "height": 293
    },
    "id": "-rBuDSETA5jr",
    "outputId": "76c5af60-adb2-4666-b424-9628bace71cb"
   },
   "outputs": [],
   "source": [
    "my_height = 193\n",
    "my_weight = 93\n",
    "\n",
    "df_me = pd.DataFrame(data={'身長': [my_height],'体重': [my_weight],})\n",
    "ax = df_mb[['身長', '体重']].plot(kind='scatter', x='身長', y='体重', color='blue', alpha=0.3, title='男性野球選手と女性サッカー選手の身長体重分布（青=男性野球選手、赤=女性サッカー選手）')\n",
    "df_fs[['身長', '体重']].plot(kind='scatter', x='身長', y='体重', color='red', alpha=0.3, ax=ax)\n",
    "df_me[['身長', '体重']].plot(kind='scatter', x='身長', y='体重', color='green', alpha=0.8, ax=ax, s=200)\n",
    "deviation_value_mb_height = int((my_height - mb_height_mean) / mb_height_std * 10 + 50)\n",
    "deviation_value_mb_weight = int((my_weight - mb_weight_mean) / mb_weight_std * 10 + 50)\n",
    "deviation_value_fs_height = int((my_height - fs_height_mean) / fs_height_std * 10 + 50)\n",
    "deviation_value_fs_weight = int((my_weight - fs_weight_mean) / fs_weight_std * 10 + 50)\n",
    "print(f'男性野球選手における　身長偏差値：{deviation_value_mb_height}　体重偏差値：{deviation_value_mb_weight}')\n",
    "print(f'女性サッカー選手における　身長偏差値：{deviation_value_fs_height}、体重偏差値：{deviation_value_fs_weight}')"
   ]
  },
  {
   "cell_type": "markdown",
   "metadata": {},
   "source": [
    "ここまでで、平均、標準偏差、偏差値を計算し簡単にグラフにできることをお示ししました\n",
    "\n",
    "## ここからは高校数学で最後に学習する定積分をとりあげましょう\n",
    "## 二次関数、三次関数の定積分も簡単に解いたりグラフに描いたりできます\n",
    "\n",
    "### 以下の3つの二次関数と三次関数の定積分を計算しグラフにします\n",
    "$$\\int_1^2 (9x^2-4x+3)dx$$　$$\\int_1^3 (3x-1)(x+1)dx$$　$$\\int_{-1}^2 (\\frac{8}{3}x^3+x-1)dx$$\n",
    "- 定積分を解くことを簡単に言い換えると関数で囲まれた図形の面積を計算することです\n",
    "- 計算はコンピューターがやってくれます\n",
    "- 計算用紙は用意しなくても大丈夫"
   ]
  },
  {
   "cell_type": "code",
   "execution_count": null,
   "metadata": {
    "colab": {
     "base_uri": "https://localhost:8080/"
    },
    "id": "f2L3tqiTA7n7",
    "outputId": "5991901c-1d68-4b7d-8e92-a2744aae189c"
   },
   "outputs": [],
   "source": [
    "x = sympy.Symbol('x')\n",
    "print(sympy.integrate(9 * x ** 2 - 4 * x + 3, (x, 1, 2)))\n",
    "print(sympy.integrate((3 * x - 1) * (x + 1), (x, 1, 3)))\n",
    "print(sympy.integrate((8 / 3) * x ** 3 + x - 1, (x, -1, 2)))"
   ]
  },
  {
   "cell_type": "markdown",
   "metadata": {},
   "source": [
    "### １行で1つの定積分の解を求めることができます\n",
    "$$\\int_1^2 (9x^2-4x+3)dx=18$$　$$\\int_1^3 (3x-1)(x+1)dx=32$$　$$\\int_{-1}^2 (\\frac{8}{3}x^3+x-1)dx=8.5$$\n",
    "#### プログラミングに習熟すると定積分を簡単に検算できるようになります\n",
    "## 与えられた3つの二次関数と三次関数の定積分をグラフにしていきます\n",
    "## １つめの二次関数をグラフに描いていきます\n",
    "$$\\int_1^2 (9x^2-4x+3)dx$$"
   ]
  },
  {
   "cell_type": "code",
   "execution_count": null,
   "metadata": {
    "colab": {
     "base_uri": "https://localhost:8080/",
     "height": 266
    },
    "id": "v8I1pE_hEEyZ",
    "outputId": "4ced9f59-957e-4cdb-d688-876a31a4e4c4"
   },
   "outputs": [],
   "source": [
    "y_val = []\n",
    "integral_y = []\n",
    "for i in np.arange(-3, 3, 0.1):\n",
    "    y_val.append(9 * i ** 2 - 4 * i + 3)\n",
    "for i in np.arange(1, 2.1, 0.1):\n",
    "    integral_y.append(9 * i ** 2 - 4 * i + 3)\n",
    "plt.plot(np.arange(-3, 3, 0.1), y_val, color='blue')\n",
    "plt.axhline(y=0, color=\"gray\")\n",
    "plt.axvline(x=0, color=\"gray\")\n",
    "plt.fill_between(np.arange(1, 2.1, 0.1), integral_y, facecolor='red')\n",
    "plt.show()"
   ]
  },
  {
   "cell_type": "markdown",
   "metadata": {},
   "source": [
    "## 11行のプログラムで１つ目の二次関数の定積分をグラフにすることができました\n",
    "- １行目と２行目で作図に必要な変数を用意しています。- 今は変数の詳しい意味はわからなくて大丈夫\n",
    "- ５行目と６行目で定積分の範囲を計算\n",
    "- ７行目で二次関数を青色で作図\n",
    "- ８行目で灰色でY軸を作図、９行目で灰色でX軸を作図\n",
    "- １０行目で定積分する範囲を赤色で作図\n",
    "- １１行目で作図したグラフを表示しています\n",
    "## 定積分のグラフを作図すると定積分の解をわかりやすく視覚化することができます\n",
    "## グラフで赤色で示した図形の面積が定積分の解です\n",
    "\n",
    "## ２つめの二次関数をグラフに描いていきます。\n",
    "$$\\int_1^3 (3x-1)(x+1)dx$$"
   ]
  },
  {
   "cell_type": "code",
   "execution_count": null,
   "metadata": {},
   "outputs": [],
   "source": [
    "y_val = []\n",
    "integral_y = []\n",
    "for i in np.arange(-4, 4, 0.1):\n",
    "    y_val.append((3 * i - 1) * (i + 1))\n",
    "for i in np.arange(1, 3.1, 0.1):\n",
    "    integral_y.append((3 * i - 1) * (i + 1))\n",
    "plt.plot(np.arange(-4, 4, 0.1), y_val, color='blue')\n",
    "plt.axhline(y=0, color=\"gray\")\n",
    "plt.axvline(x=0, color=\"gray\")\n",
    "plt.fill_between(np.arange(1, 3.1, 0.1), integral_y, facecolor='red')\n",
    "plt.show()"
   ]
  },
  {
   "cell_type": "markdown",
   "metadata": {
    "id": "ONebBUVLCK_2"
   },
   "source": [
    "## 11行のプログラムで２つ目の二次関数の定積分をグラフにすることができました\n",
    "- プログラムの内容は先程のプログラムとほぼ同じです\n",
    "- 与えられた二次方程式の部分だけが違います\n",
    "\n",
    "## 定積分のグラフを作図すると定積分の解をわかりやすく視覚化することができます\n",
    "## グラフで赤色で示した図形の面積が定積分の解です\n",
    "\n",
    "## ３つめの三次関数をグラフに描いていきます。\n",
    "$$\\int_{-1}^2 (\\frac{8}{3}x^3+x-1)dx$$"
   ]
  },
  {
   "cell_type": "code",
   "execution_count": null,
   "metadata": {},
   "outputs": [],
   "source": [
    "y_val = []\n",
    "integral_y = []\n",
    "for i in np.arange(-3, 3, 0.1):\n",
    "    y_val.append((8 / 3) * i ** 3 + i - 1)\n",
    "for i in np.arange(-1, 2, 0.1):\n",
    "    integral_y.append((8 / 3) * i ** 3 + i - 1)\n",
    "plt.plot(np.arange(-3, 3, 0.1), y_val, color='blue')\n",
    "plt.axhline(y=0, color=\"gray\")\n",
    "plt.axvline(x=0, color=\"gray\")\n",
    "plt.fill_between(np.arange(-1, 2, 0.1), integral_y, facecolor='red')\n",
    "plt.show()"
   ]
  },
  {
   "cell_type": "markdown",
   "metadata": {},
   "source": [
    "## 11行のプログラムで３つ目の三次関数の定積分をグラフにすることができました\n",
    "- プログラムの内容は先程のプログラムとほぼ同じです\n",
    "- 与えられた三次方程式の部分だけが違います\n",
    "## 定積分のグラフを作図すると定積分の解をわかりやすく視覚化することができます\n",
    "## グラフで赤色で示した図形の面積が定積分の解です\n",
    "\n",
    "# 皆様、おつかれさまでした！\n",
    "- 本日はPython（パイソン）というプログラミング言語を使用しました\n",
    "- Pythonはデータサイエンス領域でとても人気のあるプログラミング言語です\n",
    "- Pythonには多機能で便利なライブラリがたくさん用意されています。本日は以下のPythonライブラリを使用しました\n",
    "    - japanize_matplotlib、math、matplotlib、numpy、pandas、sympy\n",
    "- Pythonにはを使いこなせるようになると色々なことが簡単に実現できます\n",
    "- 学生の皆さんと一緒に勉強できるのを教職員一同楽しみにしています\n",
    "\n",
    "# 体験プログラム「データビジュアライゼーション入門」は以上です\n",
    "## 質問、疑問は、Slack または Google forms で受け付けています\n",
    "- Slack と Google forms のURLは対象者にメールでお伝えします（セキュリティ上の理由でここには記載しません）\n",
    "- 対象者なのにメールが届かない人は各自で大学の教職員まで申し出てください"
   ]
  }
 ],
 "metadata": {
  "colab": {
   "provenance": []
  },
  "jupytext": {
   "formats": "ipynb,py:light"
  },
  "kernelspec": {
   "display_name": "Python 3 (ipykernel)",
   "language": "python",
   "name": "python3"
  },
  "language_info": {
   "codemirror_mode": {
    "name": "ipython",
    "version": 3
   },
   "file_extension": ".py",
   "mimetype": "text/x-python",
   "name": "python",
   "nbconvert_exporter": "python",
   "pygments_lexer": "ipython3",
   "version": "3.8.10"
  }
 },
 "nbformat": 4,
 "nbformat_minor": 1
}
